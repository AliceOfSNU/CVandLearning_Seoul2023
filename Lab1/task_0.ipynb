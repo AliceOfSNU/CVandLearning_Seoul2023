{
 "cells": [
  {
   "cell_type": "markdown",
   "id": "overhead-clinic",
   "metadata": {},
   "source": [
    "# Part 0: Dataloader and Visualizations"
   ]
  },
  {
   "cell_type": "code",
   "execution_count": 3,
   "id": "moved-crisis",
   "metadata": {},
   "outputs": [],
   "source": [
    "import numpy as np\n",
    "from PIL import Image\n",
    "import scipy.io\n",
    "import torch\n",
    "import torch.nn as nn\n",
    "import torch.nn.functional as F\n",
    "import torchvision.models as models\n",
    "from torchvision import transforms, datasets\n",
    "from torch.utils.data import DataLoader\n",
    "import wandb\n",
    "\n",
    "from voc_dataset import VOCDataset\n",
    "from utils import *\n",
    "%load_ext autoreload\n",
    "%autoreload 2\n",
    "USE_WANDB = False"
   ]
  },
  {
   "cell_type": "markdown",
   "id": "angry-prague",
   "metadata": {},
   "source": [
    "## Q0.1: Editing the Dataloader\n",
    "The first part of the assignment involves editing the dataloader so that we can access bounding-box proposals as well as the ground-truth bounding boxes. The ground truth bounding box can be accessed through the VOC Dataset annotations itself and we have completed this part for you in the starter code. \n",
    "\n",
    "Unsupervised bounding box proposals are obtained through methods such as [Selective Search](https://ivi.fnwi.uva.nl/isis/publications/2013/UijlingsIJCV2013/UijlingsIJCV2013.pdf). Since Selective Search is slow to run on each image, we have pre-computed the bounding box proposals for you (you downloaded this in the data preparation step).\n",
    "\n",
    "Your task is to change the dataloader to obtain the proposed bounding boxes for each image. Feel free to experiment with the data in the files to figure out the number of proposals per image, their scores, etc. Returning a dictionary would be convenient here. For the bounding boxes, using the relative positions is usually a better idea since they are invariant to changes in the size of the image."
   ]
  },
  {
   "cell_type": "code",
   "execution_count": null,
   "id": "thousand-messaging",
   "metadata": {},
   "outputs": [],
   "source": [
    "dataset = VOCDataset('trainval', top_n=10, data_dir='../../data/VOCdevkit/VOC2007/')"
   ]
  },
  {
   "cell_type": "markdown",
   "id": "c2223be0",
   "metadata": {},
   "source": [
    "**Q0.1**: Load the image corresponding to index 2020 and print the GT labels associated with it.\n",
    "\n",
    "**Hint**: items at a particular index can be accesed by usual indexing notation (dataset[idx])"
   ]
  },
  {
   "cell_type": "code",
   "execution_count": null,
   "id": "confused-witness",
   "metadata": {},
   "outputs": [],
   "source": [
    "# TODO: get the image information from index 2020\n",
    "idx = 2020\n",
    "dataset.roi_data.keys()"
   ]
  },
  {
   "cell_type": "markdown",
   "id": "rational-recycling",
   "metadata": {},
   "source": [
    "## Q0.2 and Q0.3: Wandb Logging\n",
    "First, let's initialize a Weights and Biases project. "
   ]
  },
  {
   "cell_type": "code",
   "execution_count": null,
   "id": "conventional-flexibility",
   "metadata": {},
   "outputs": [],
   "source": [
    "USE_WANDB = True\n",
    "if USE_WANDB:\n",
    "    wandb.init(project=\"vlr-hw1\", reinit=True)"
   ]
  },
  {
   "cell_type": "markdown",
   "id": "demanding-ladder",
   "metadata": {},
   "source": [
    "**Q0.2**: Complete this block for overlaying the ground truth box on an image.\n",
    "\n",
    "**Hint**: convert the image tensor to a PIL image and plot it (check `utils.py` for helper functions). You can use [this](https://docs.wandb.ai/library/log) as a reference for logging syntax."
   ]
  },
  {
   "cell_type": "code",
   "execution_count": null,
   "id": "resistant-concert",
   "metadata": {},
   "outputs": [],
   "source": [
    "class_id_to_label = dict(enumerate(dataset.CLASS_NAMES))\n",
    "\n",
    "# TODO: load the GT information corresponding to index 2020.\n",
    "print(dataset[idx].keys())\n",
    "original_image = dataset[idx]['image']\n",
    "gt_labels = dataset[idx]['gt_classes']\n",
    "gt_boxes = dataset[idx]['gt_boxes']\n",
    "\n",
    "img = wandb.Image(original_image, boxes={\n",
    "    \"predictions\": {\n",
    "        \"box_data\": get_box_data(gt_labels, gt_boxes),\n",
    "        \"class_labels\": class_id_to_label,\n",
    "    },\n",
    "})\n",
    "\n",
    "# TODO: log the GT bounding box\n"
   ]
  },
  {
   "cell_type": "markdown",
   "id": "matched-thread",
   "metadata": {},
   "source": [
    "**Q0.3**: Visualize the top 10 bounding proposals corresponding to index 2020.\n",
    "\n",
    "**Hint**: Check the `get_box_data` function in `utils.py` and understand how it is being used. "
   ]
  },
  {
   "cell_type": "code",
   "execution_count": null,
   "id": "floating-repository",
   "metadata": {},
   "outputs": [],
   "source": [
    "# TODO: plot top ten proposals (of bounding boxes)\n",
    "idx=2023\n",
    "\n",
    "print(dataset.roi_data['boxes'][0][idx][:10])\n",
    "imgs, boxes = [], []\n",
    "for idx in range(2023, 2026):\n",
    "    rois = dataset[idx]['rois']\n",
    "    imgs.append(tensor_to_PIL(dataset[idx]['image']))\n",
    "    boxes.append({\n",
    "        \"proposals\": {\n",
    "            \"box_data\": [\n",
    "                {\n",
    "                    \"position\": {\n",
    "                        \"minX\": bbox[0],\n",
    "                        \"minY\": bbox[1], #top(min row)\n",
    "                        \"maxX\": bbox[2],\n",
    "                        \"maxY\": bbox[3], #bottom(max row)\n",
    "                        },\n",
    "                    \"class_id\": 0\n",
    "                }\n",
    "                for bbox in rois]\n",
    "        },\n",
    "    })\n",
    "    \n",
    "wdb_img = [wandb.Image(img, boxes=box) for img, box in zip(imgs, boxes)]\n",
    "wandb.log({\"region proposals\": wdb_img})\n"
   ]
  },
  {
   "cell_type": "markdown",
   "metadata": {},
   "source": [
    "### debug section"
   ]
  },
  {
   "cell_type": "code",
   "execution_count": 1,
   "metadata": {},
   "outputs": [
    {
     "name": "stderr",
     "output_type": "stream",
     "text": [
      "/home/alice/anaconda3/envs/lowergcc/lib/python3.9/site-packages/tqdm/auto.py:21: TqdmWarning: IProgress not found. Please update jupyter and ipywidgets. See https://ipywidgets.readthedocs.io/en/stable/user_install.html\n",
      "  from .autonotebook import tqdm as notebook_tqdm\n"
     ]
    }
   ],
   "source": [
    "import numpy as np\n",
    "from utils import nms, tensor_to_PIL, iou\n",
    "import torch\n",
    "import torch.nn as nn\n",
    "from torchvision.ops import box_iou, roi_pool\n",
    "import torchvision.transforms as transforms\n",
    "\n",
    "\n",
    "import matplotlib\n",
    "import matplotlib.pyplot as plt\n"
   ]
  },
  {
   "cell_type": "code",
   "execution_count": 4,
   "metadata": {},
   "outputs": [],
   "source": [
    "dataset = VOCDataset('trainval', image_size=512, top_n=10, data_dir='../../data/VOCdevkit/VOC2007/')\n",
    "\n",
    "train_loader = torch.utils.data.DataLoader(\n",
    "        dataset,\n",
    "        batch_size=1,   # batchsize is one for this implementation\n",
    "        shuffle=True,\n",
    "        num_workers=4,\n",
    "        pin_memory=True,\n",
    "        sampler=None,\n",
    "        drop_last=True)"
   ]
  },
  {
   "cell_type": "code",
   "execution_count": 16,
   "metadata": {},
   "outputs": [
    {
     "name": "stderr",
     "output_type": "stream",
     "text": [
      "Clipping input data to the valid range for imshow with RGB data ([0..1] for floats or [0..255] for integers).\n",
      "Clipping input data to the valid range for imshow with RGB data ([0..1] for floats or [0..255] for integers).\n",
      "Clipping input data to the valid range for imshow with RGB data ([0..1] for floats or [0..255] for integers).\n",
      "Clipping input data to the valid range for imshow with RGB data ([0..1] for floats or [0..255] for integers).\n",
      "Clipping input data to the valid range for imshow with RGB data ([0..1] for floats or [0..255] for integers).\n",
      "Clipping input data to the valid range for imshow with RGB data ([0..1] for floats or [0..255] for integers).\n",
      "Clipping input data to the valid range for imshow with RGB data ([0..1] for floats or [0..255] for integers).\n",
      "Clipping input data to the valid range for imshow with RGB data ([0..1] for floats or [0..255] for integers).\n",
      "Clipping input data to the valid range for imshow with RGB data ([0..1] for floats or [0..255] for integers).\n"
     ]
    },
    {
     "data": {
      "image/png": "[encoded data removed]",
      "text/plain": [
       "<Figure size 640x480 with 9 Axes>"
      ]
     },
     "metadata": {},
     "output_type": "display_data"
    }
   ],
   "source": [
    "fig, ax = plt.subplots(3, 3)\n",
    "\n",
    "for iter, data in enumerate(dataset):\n",
    "    image = data['image']\n",
    "    target = data['label']\n",
    "    wgt = data['wgt']\n",
    "    rois = data['rois']\n",
    "    gt_boxes = data['gt_boxes']\n",
    "    gt_class_list = data['gt_classes']\n",
    "    \n",
    "    h, w = image.shape[-2:]\n",
    "    scale_factor = torch.Tensor([w, h, w, h])\n",
    "    dh = h/3; dw = w/3\n",
    "    rois = []\n",
    "    for i in range(3):\n",
    "        for j in range(3):\n",
    "            rois.append(torch.Tensor([j*dw, i*dh, (j+1)*dw, (i+1)*dh]))\n",
    "    rois  = torch.stack(rois, dim=0).float()\n",
    "    resized = transforms.Resize((224, 224))(image).unsqueeze(0)\n",
    "    \n",
    "    proposals = roi_pool(resized, [rois], 32, spatial_scale=224/512)\n",
    "    proposals = proposals.detach().numpy()\n",
    "    proposals = proposals.transpose((0, 2, 3, 1))\n",
    "    for row in range(3):\n",
    "        for col in range(3):\n",
    "            ax[row, col].imshow(proposals[row*3+col])\n",
    "    plt.show()\n",
    "    break\n",
    "    "
   ]
  }
 ],
 "metadata": {
  "kernelspec": {
   "display_name": "Python 3.8.2 64-bit",
   "language": "python",
   "name": "python3"
  },
  "language_info": {
   "codemirror_mode": {
    "name": "ipython",
    "version": 3
   },
   "file_extension": ".py",
   "mimetype": "text/x-python",
   "name": "python",
   "nbconvert_exporter": "python",
   "pygments_lexer": "ipython3",
   "version": "3.9.0"
  },
  "vscode": {
   "interpreter": {
    "hash": "31f2aee4e71d21fbe5cf8b01ff0e069b9275f58929596ceb00d14d90e3e16cd6"
   }
  }
 },
 "nbformat": 4,
 "nbformat_minor": 5
}
