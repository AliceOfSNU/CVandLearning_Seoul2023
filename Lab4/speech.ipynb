{
 "cells": [
  {
   "cell_type": "code",
   "execution_count": 1,
   "metadata": {},
   "outputs": [],
   "source": [
    "%load_ext autoreload\n",
    "%autoreload 2\n",
    "CMUdict_ARPAbet = {\n",
    "    \"\" : \" \",\n",
    "    \"[SIL]\": \"-\", \"NG\": \"G\", \"F\" : \"f\", \"M\" : \"m\", \"AE\": \"@\",\n",
    "    \"R\"    : \"r\", \"UW\": \"u\", \"N\" : \"n\", \"IY\": \"i\", \"AW\": \"W\",\n",
    "    \"V\"    : \"v\", \"UH\": \"U\", \"OW\": \"o\", \"AA\": \"a\", \"ER\": \"R\",\n",
    "    \"HH\"   : \"h\", \"Z\" : \"z\", \"K\" : \"k\", \"CH\": \"C\", \"W\" : \"w\",\n",
    "    \"EY\"   : \"e\", \"ZH\": \"Z\", \"T\" : \"t\", \"EH\": \"E\", \"Y\" : \"y\",\n",
    "    \"AH\"   : \"A\", \"B\" : \"b\", \"P\" : \"p\", \"TH\": \"T\", \"DH\": \"D\",\n",
    "    \"AO\"   : \"c\", \"G\" : \"g\", \"L\" : \"l\", \"JH\": \"j\", \"OY\": \"O\",\n",
    "    \"SH\"   : \"S\", \"D\" : \"d\", \"AY\": \"Y\", \"S\" : \"s\", \"IH\": \"I\",\n",
    "    \"[SOS]\": \"[SOS]\", \"[EOS]\": \"[EOS]\"\n",
    "}\n",
    "\n",
    "CMUdict = list(CMUdict_ARPAbet.keys())\n",
    "ARPAbet = list(CMUdict_ARPAbet.values())\n",
    "\n",
    "PHONEMES = CMUdict[:-2]\n",
    "LABELS = ARPAbet[:-2]"
   ]
  },
  {
   "cell_type": "markdown",
   "metadata": {},
   "source": [
    "## The Data"
   ]
  },
  {
   "cell_type": "code",
   "execution_count": 2,
   "metadata": {},
   "outputs": [
    {
     "name": "stderr",
     "output_type": "stream",
     "text": [
      "/home/alice/anaconda3/envs/lowergcc/lib/python3.9/site-packages/tqdm/auto.py:21: TqdmWarning: IProgress not found. Please update jupyter and ipywidgets. See https://ipywidgets.readthedocs.io/en/stable/user_install.html\n",
      "  from .autonotebook import tqdm as notebook_tqdm\n"
     ]
    },
    {
     "name": "stdout",
     "output_type": "stream",
     "text": [
      "create dataset from data  ../../data/train-clean-100\n",
      "\ttotal mfcc cnt:  28539\n",
      "\ttotal transcript cnt:  28539\n",
      "create dataset from data  ../../data/dev-clean\n",
      "\ttotal mfcc cnt:  2703\n",
      "\ttotal transcript cnt:  2703\n"
     ]
    }
   ],
   "source": [
    "import dataset\n",
    "from dataset import AudioDataset\n",
    "\n",
    "# probably want to collect some RAM before we go.\n",
    "import gc\n",
    "gc.collect()\n",
    "\n",
    "train_data = AudioDataset('train-clean-100')\n",
    "val_data = AudioDataset('dev-clean')\n"
   ]
  },
  {
   "cell_type": "code",
   "execution_count": 22,
   "metadata": {},
   "outputs": [
    {
     "name": "stdout",
     "output_type": "stream",
     "text": [
      "(830, 28) float32\n",
      "[63 65 78 68 32 84 72 69 32 80 79 79 82 32 83 73 76 76 89 32 84 72 73 78\n",
      " 71 83 32 82 85 70 70 76 69 68 32 85 80 32 84 72 69 73 82 32 70 69 65 84\n",
      " 72 69 82 83 32 65 78 68 32 76 79 79 75 69 68 32 77 73 83 69 82 65 66 76\n",
      " 69 32 65 83 32 79 78 76 89 32 65 32 76 73 84 84 76 69 32 66 73 82 68 32\n",
      " 67 65 78 32 76 79 79 75 32 87 72 69 78 32 73 84 32 73 83 32 85 78 72 65\n",
      " 80 80 89 64]\n",
      "(684, 28) float32\n",
      "[63 72 69 32 84 72 79 85 71 72 84 32 73 84 32 87 65 83 32 65 32 76 65 83\n",
      " 84 32 66 85 82 83 84 32 79 70 32 69 78 69 82 71 89 32 72 69 32 75 78 69\n",
      " 87 32 72 79 87 32 67 76 79 83 69 32 84 72 69 89 32 66 79 84 72 32 87 69\n",
      " 82 69 32 84 79 32 69 88 72 65 85 83 84 73 79 78 64]\n"
     ]
    }
   ],
   "source": [
    "mfcc,  transcript = val_data[0]\n",
    "print(mfcc.shape, mfcc.dtype)\n",
    "print(transcript)\n",
    "\n",
    "mfcc,  transcript = val_data[1]\n",
    "print(mfcc.shape, mfcc.dtype)\n",
    "print(transcript)"
   ]
  },
  {
   "cell_type": "code",
   "execution_count": 3,
   "metadata": {},
   "outputs": [
    {
     "name": "stdout",
     "output_type": "stream",
     "text": [
      "Train dataset samples = 28539, batches = 445\n",
      "torch.Size([64, 1634, 28]) torch.Size([64, 274]) torch.Size([64]) torch.Size([64])\n"
     ]
    }
   ],
   "source": [
    "from torch.utils.data import DataLoader\n",
    "\n",
    "batch_size = 64\n",
    "train_loader =  DataLoader(\n",
    "            train_data,\n",
    "            batch_size=batch_size,\n",
    "            drop_last=True,\n",
    "            shuffle=True,\n",
    "            collate_fn=train_data.collate_fn\n",
    ")\n",
    "\n",
    "\n",
    "print(\"Train dataset samples = {}, batches = {}\".format(train_data.__len__(), len(train_loader)))\n",
    "\n",
    "# sanity check\n",
    "for data in train_loader:\n",
    "    x, y, lx, ly = data\n",
    "    print(x.shape, y.shape, lx.shape, ly.shape)\n",
    "    break\n"
   ]
  },
  {
   "cell_type": "markdown",
   "metadata": {},
   "source": [
    "## The Model"
   ]
  },
  {
   "cell_type": "code",
   "execution_count": 8,
   "metadata": {},
   "outputs": [
    {
     "name": "stdout",
     "output_type": "stream",
     "text": [
      "torch.Size([64, 1671, 28]) torch.Size([64, 281]) torch.Size([64]) torch.Size([64])\n"
     ]
    }
   ],
   "source": [
    "from model import ASRModel\n",
    "from defines import PHONEMES\n",
    "\n",
    "model = ASRModel(\n",
    "    input_size = 28, \n",
    "    embed_size= 64,\n",
    "    output_size = len(PHONEMES)\n",
    ")\n",
    "for data in train_loader:\n",
    "    x, y, lx, ly = data\n",
    "    decoder_out, encoder_lens = model.forward(x, lx)\n",
    "    break"
   ]
  },
  {
   "cell_type": "code",
   "execution_count": 20,
   "metadata": {},
   "outputs": [
    {
     "name": "stdout",
     "output_type": "stream",
     "text": [
      "41\n",
      "[' ', '-', 'G', 'f', 'm', '@', 'r', 'u', 'n', 'i', 'W', 'v', 'U', 'o', 'a', 'R', 'h', 'z', 'k', 'C', 'w', 'e', 'Z', 't', 'E', 'y', 'A', 'b', 'p', 'T', 'D', 'c', 'g', 'l', 'j', 'O', 'S', 'd', 'Y', 's', 'I']\n",
      "[SOS]AND THE POOR SILLY THINGS RUFFLED UP THEIR FEATHERS AND LOOKED MISERABLE AS ONLY A LITTLE BIRD CAN LOOK WHEN IT IS UNHAPPY[EOS]\n",
      "[SOS]HE THOUGHT IT WAS A LAST BURST OF ENERGY HE KNEW HOW CLOSE THEY BOTH WERE TO EXHAUSTION[EOS]\n",
      "[SOS]WE WERE INURED TO PRIVATIONS AND HARDSHIPS HAD BEEN UPON EVERY MARCH IN EVERY BATTLE IN EVERY SKIRMISH IN EVERY ADVANCE IN EVERY RETREAT IN EVERY VICTORY IN EVERY DEFEAT[EOS]\n",
      "[SOS]THIS WAS THE OLD ESTABLISHMENT OF URSUS ITS PROPORTIONS AUGMENTED BY SUCCESS AND IMPROVED FROM A WRETCHED BOOTH INTO A THEATRE[EOS]\n",
      "[SOS]LETTY FINDING HERSELF NOT QUITE EQUAL TO THE EMERGENCY CAME IN HER TURN TO CALL MARY SHE WENT AS QUIETLY AS IF SHE WERE LEAVING A TIRESOME VISITOR[EOS]\n",
      "[SOS]BUT EARNEST AS THE FATHER WAS IN WATCHING THE YET LIVING HE HAD EYES AND EARS FOR ALL THAT CONCERNED THE DEAD AND SPRANG GENTLY UP AND TOOK HIS DEAD SON ON HIS HARD COUCH IN HIS ARMS WITH TENDER STRENGTH AND CARRIED HIM UPSTAIRS AS IF AFRAID OF WAKENING HIM[EOS]\n",
      "[SOS]BUT VIGOUR RETURNED TO HIM BEFORE HE HAD WELL REACHED THE DOOR AND HE SHOWED SOME OF HIS OLD SPIRIT AS HE THANKED MISS CLARKE AND TURNED TO TAKE THE ELEVATOR[EOS]\n",
      "[SOS]I AM SURPRISED HOWEVER THAT THE BOOK AT WHICH SUCH AN EXAMPLE OF THE SPECIOUS MISUSE OF ANALOGY WOULD SEEM MOST NATURALLY LEVELLED SHOULD HAVE OCCURRED TO NO REVIEWER NEITHER SHALL I MENTION THE NAME OF THE BOOK HERE THOUGH I SHOULD FANCY THAT THE HINT GIVEN WILL SUFFICE[EOS]\n",
      "[SOS]I MIGHT BE TOLD THAT IF I HAD WISHED TO FOLLOW THE RULES OF PURE MORALITY I OUGHT EITHER TO HAVE DECLINED INTIMATE INTERCOURSE WITH THEM OR TO HAVE UNDECEIVED THEM[EOS]\n",
      "[SOS]IT'S LIKE YOUR HORSE SUDDENLY FALLING DEAD UNDER YOU IN THE MIDST OF AN UNINHABITED AND THIRSTY PLAIN[EOS]\n",
      "[' ', '-', '@', 'A', 'C', 'D', 'E', 'G', 'I', 'O', 'R', 'S', 'T', 'U', 'W', 'Y', 'Z', 'a', 'b', 'c', 'd', 'e', 'f', 'g', 'h', 'i', 'j', 'k', 'l', 'm', 'n', 'o', 'p', 'r', 's', 't', 'u', 'v', 'w', 'y', 'z']\n"
     ]
    }
   ],
   "source": [
    "print(len(LABELS))\n",
    "print(LABELS)\n",
    "\n",
    "for i in range(10):\n",
    "    mfcc,  transcript = val_data[i]\n",
    "    sent = [val_data.int_to_str(s) for s in transcript]\n",
    "    print(''.join(sent))\n",
    "\n",
    "print(sorted(LABELS))"
   ]
  }
 ],
 "metadata": {
  "kernelspec": {
   "display_name": "lowergcc",
   "language": "python",
   "name": "python3"
  },
  "language_info": {
   "codemirror_mode": {
    "name": "ipython",
    "version": 3
   },
   "file_extension": ".py",
   "mimetype": "text/x-python",
   "name": "python",
   "nbconvert_exporter": "python",
   "pygments_lexer": "ipython3",
   "version": "3.9.0"
  }
 },
 "nbformat": 4,
 "nbformat_minor": 2
}
